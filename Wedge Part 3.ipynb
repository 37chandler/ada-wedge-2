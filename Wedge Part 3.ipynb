{
 "cells": [
  {
   "cell_type": "markdown",
   "metadata": {},
   "source": [
    "## Task 3: Building Summary Tables\n",
    "It is useful to have summary files that allow you to quickly answer questions such as the following:\n",
    "•\tHow have our sales-by-day changed over the last few months?\n",
    "•\tWhat is our most popular item in each department?\n",
    "•\tWhich owners spend the most per month in each department?\n",
    "\n",
    "The classic way to structure data to answer these questions is in a relational database. In this task, you will build the summary text files that hold this data and populate a relational database with the data.\n",
    "\n",
    "Deliverable: The Python code that creates the summary tables. The Python code that builds the database. The actual database file (.db)."
   ]
  },
  {
   "cell_type": "markdown",
   "metadata": {},
   "source": [
    "### Connect to GBQ"
   ]
  },
  {
   "cell_type": "code",
   "execution_count": 1,
   "metadata": {},
   "outputs": [],
   "source": [
    "from google.cloud import bigquery\n",
    "from google.oauth2 import service_account\n",
    "import os\n",
    "\n",
    "path_to_files = 'C:\\\\Users\\\\meand\\\\Documents\\\\Grad School\\\\Fall2020\\\\Applied Data Analytics\\\\Wedge\\\\ada-wedge\\\\bigwedge_clean\\\\'\n",
    "\n",
    "clean_wedge = os.listdir(\"bigwedge_clean\")\n",
    "\n",
    "#specific to my computer & project\n",
    "service_path = \"C:\\\\Users\\meand\\\\Documents\\\\Grad School\\Fall2020\\\\Applied Data Analytics\\\\Wedge\\\\ada-wedge\\\\\"\n",
    "service_file = 'Wedge Project-ed75ab1189b3.json' # this is your authentication information  \n",
    "gbq_proj_id = 'wedge-project-290522'  # change this to your project_id\n",
    "gbq_dataset_id = 'big_wedge_1' # and change this to your data set ID\n",
    "\n",
    "private_key =service_path + service_file\n",
    "\n",
    "# pass in our credentials so that Python has permission to access our project\n",
    "credentials = service_account.Credentials.from_service_account_file(service_path + service_file)\n",
    "\n",
    "# establish our connection\n",
    "client = bigquery.Client(credentials = credentials, project=gbq_proj_id)"
   ]
  },
  {
   "cell_type": "code",
   "execution_count": 2,
   "metadata": {},
   "outputs": [],
   "source": [
    "#Create a database file\n",
    "\n",
    "import sqlite3\n",
    "db = sqlite3.connect(\"WedgeTask3.db\")\n",
    "cur = db.cursor()"
   ]
  },
  {
   "cell_type": "markdown",
   "metadata": {},
   "source": [
    "### Query 1:\n",
    "\n",
    "Sales by date by hour: \n",
    "--By calendar date (YYYY-MM-DD) and hour of the day, determine the total spend in the store, the number of transactions, and a count of the number of items ."
   ]
  },
  {
   "cell_type": "code",
   "execution_count": 6,
   "metadata": {},
   "outputs": [],
   "source": [
    "query_1 = (\n",
    "    \"\"\"Select (EXTRACT(date FROM datetime)) AS Date,\n",
    "    (EXTRACT(hour FROM datetime)) AS Hour,\n",
    "    SUM(total) AS Sales,\n",
    "    Count(DISTINCT(Date(datetime) || register_no || emp_no || trans_no)) AS Transactions,\n",
    "    SUM(CASE WHEN(trans_status = 'V' OR trans_status = 'R') THEN -1 ELSE 1 END) as Items\n",
    "    FROM `wedge-project-290522.big_wedge_1.transArchive*`\n",
    "    Where card_no != 3\n",
    "    AND department != 0 \n",
    "    AND department != 15\n",
    "    AND trans_status != 'M'\n",
    "    AND trans_status != 'C'\n",
    "    AND trans_status != 'J'\n",
    "    AND (trans_status = ''\n",
    "    OR trans_status = ' '\n",
    "    or trans_status = 'V'\n",
    "    or trans_status = 'R')\n",
    "    GROUP BY Date, Hour\n",
    "    ORDER BY Date, Hour\"\"\"\n",
    ")\n",
    "    \n",
    "    \n",
    "#execute the query\n",
    "results_1 = client.query(query_1,location = \"US\",)"
   ]
  },
  {
   "cell_type": "code",
   "execution_count": 7,
   "metadata": {},
   "outputs": [],
   "source": [
    "#write to a txt file for the first query\n",
    "\n",
    "with open ('Sales_date_hour.txt', 'w') as outfile:\n",
    "    for line in results_1:\n",
    "        row = [str(item) for item in line]\n",
    "        outfile.write(\",\".join(row) + \"\\n\")"
   ]
  },
  {
   "cell_type": "code",
   "execution_count": 8,
   "metadata": {},
   "outputs": [],
   "source": [
    "# input the results of the first query into the WedgeTask3 database as the table Sales_by_date_by_hour\n",
    "input_file1 = \"Sales_date_hour.txt\"\n",
    "\n",
    "db = sqlite3.connect(\"WedgeTask3.db\") # connect to the new database\n",
    "cur = db.cursor()\n",
    "\n",
    "cur.execute('''DROP TABLE IF EXISTS Sales_by_Date_by_Hour''') # remove the table if it already exists\n",
    "\n",
    "# create the table in the connected database and set up the schema\n",
    "cur.execute('''CREATE TABLE Sales_by_Date_by_Hour (\n",
    "    Date TIMESTAMP,\n",
    "    Hour TIMESTAMP,\n",
    "    Sales REAL,\n",
    "    Transactions INTEGER,\n",
    "    Items TEXT)''')\n",
    "\n",
    "# input the Sales by Date by Hour text data into the established table in the database\n",
    "with open(input_file1, 'r', encoding = 'Latin-1') as infile:\n",
    "    for idx,line in enumerate(infile.readlines()):\n",
    "        line = line.strip().split(',')\n",
    "        cur.execute('''\n",
    "        INSERT INTO Sales_by_Date_by_Hour (Date, Hour, Sales, Transactions, Items)\n",
    "        VALUES (?,?,?,?,?)''', line) #make sure that the ? match up with the column labels for value insertion\n",
    "db.commit()"
   ]
  },
  {
   "cell_type": "markdown",
   "metadata": {},
   "source": [
    "### Query 2: \n",
    "\n",
    "Sales by owner by year by month: A file that has the following columns: card_no, year, month, sales, transactions, and items."
   ]
  },
  {
   "cell_type": "code",
   "execution_count": 12,
   "metadata": {},
   "outputs": [],
   "source": [
    "query2 = (\n",
    "    \"\"\"SELECT card_no As Owner,\n",
    "    (EXTRACT(year FROM datetime)) AS Year,\n",
    "    (EXTRACT(month FROM datetime)) AS Month,\n",
    "    SUM(total) AS Sales,\n",
    "    COUNT(DISTINCT(Date(datetime) || register_no || emp_no || trans_no)) AS Transactions,\n",
    "    SUM(CASE WHEN(trans_status = 'V' OR trans_status = 'R') THEN -1 ELSE 1 END) as Items\n",
    "    FROM `wedge-project-290522.big_wedge_1.transArchive*`\n",
    "    WHERE card_no != 3\n",
    "    AND department != 0\n",
    "    AND department != 15\n",
    "    AND trans_status != 'M'\n",
    "    AND trans_status != 'C'\n",
    "    AND trans_status != 'J'\n",
    "    AND (trans_status = ''\n",
    "    OR trans_status = ' '\n",
    "    OR trans_status =  'V'\n",
    "    OR trans_status = 'R')\n",
    "    GROUP BY Owner, Year, Month\n",
    "    ORDER BY Owner, Year, Month DESC\"\"\"\n",
    ")\n",
    "\n",
    "# execute the query\n",
    "results2 = client.query(query2, location=\"US\",)"
   ]
  },
  {
   "cell_type": "code",
   "execution_count": 13,
   "metadata": {},
   "outputs": [],
   "source": [
    "#Create output txt file for the second query\n",
    "\n",
    "with open('Sales_by_Owner_Date.txt',\"w\") as outfile:\n",
    "    \n",
    "    for row in results2: \n",
    "        outfile.write(\",\".join([str(item) for item in row])+\"\\n\")"
   ]
  },
  {
   "cell_type": "code",
   "execution_count": 36,
   "metadata": {},
   "outputs": [],
   "source": [
    "# input the results of the second query into the WedgeTask3 database as the table Sales_by_Owner_Date\n",
    "input_file2 = \"Sales_by_Owner_Date.txt\"\n",
    "\n",
    "db = sqlite3.connect(\"WedgeTask3.db\") # connect to the WedgeTask 3 database\n",
    "cur = db.cursor()\n",
    "\n",
    "cur.execute('''DROP TABLE IF EXISTS Sales_by_Owner_Date''') # remove the table if it already exists\n",
    "\n",
    "# create the table in the connected database and set up the schema\n",
    "cur.execute('''CREATE TABLE Sales_by_Owner_Date (\n",
    "    Owner INTEGER,\n",
    "    Year TIMESTAMP,\n",
    "    Month TIMESTAMP,\n",
    "    Sales REAL,\n",
    "    Transactions INTEGER,\n",
    "    Items TEXT)''')\n",
    "\n",
    "# input the Sales by Owner by Date text data into the established table in the database\n",
    "with open(input_file2, 'r', encoding = 'Latin-1') as infile:\n",
    "    for idx,line in enumerate(infile.readlines()):\n",
    "        line = line.strip().split(',')\n",
    "        cur.execute('''\n",
    "        INSERT INTO Sales_by_Owner_Date (Owner, Year, Month, Sales, Transactions, Items)\n",
    "        VALUES (?,?,?,?,?,?)''', line)\n",
    "db.commit()"
   ]
  },
  {
   "cell_type": "markdown",
   "metadata": {},
   "source": [
    "### Query 3:\n",
    "\n",
    "Sales by product description by year by month: A file that has the following columns: upc (universal product code), description, department number, department name, year, month, sales, transactions, and items."
   ]
  },
  {
   "cell_type": "code",
   "execution_count": 32,
   "metadata": {},
   "outputs": [],
   "source": [
    "query3 = (\n",
    "    \"\"\"SELECT Upc AS UPC,\n",
    "    description AS Product,\n",
    "    a.department AS Department,\n",
    "    b.dept_name AS Dept_Name,\n",
    "    (EXTRACT(year FROM datetime)) AS Year,\n",
    "    (EXTRACT(month FROM datetime)) AS Month,\n",
    "    SUM(total) AS Sales,\n",
    "    COUNT(DISTINCT(Date(datetime) || register_no || emp_no || trans_no)) AS Transactions,\n",
    "    SUM(CASE WHEN(trans_status = 'V' OR trans_status = 'R') THEN -1 ELSE 1 END) as Items\n",
    "    FROM `big_wedge_1.transArchive*` a\n",
    "    LEFT OUTER JOIN `big_wedge_1.department` b\n",
    "    ON a.department = b.department\n",
    "    WHERE card_no != 3\n",
    "    AND a.department != 0\n",
    "    AND a.department != 15\n",
    "    AND trans_status != 'M'\n",
    "    AND trans_status != 'C'\n",
    "    AND trans_status != 'J'\n",
    "    AND (trans_status = ''\n",
    "    OR trans_status = ' '\n",
    "    OR trans_status =  'V'\n",
    "    OR trans_status = 'R')\n",
    "    GROUP BY UPC, Product, Department, Dept_Name, Year, Month\n",
    "    ORDER BY UPC, Product, Department, Dept_Name, Year, Month DESC\"\"\"\n",
    ")\n",
    "\n",
    "# Execute the query\n",
    "results3 = client.query(query3,location=\"US\",)"
   ]
  },
  {
   "cell_type": "code",
   "execution_count": 33,
   "metadata": {},
   "outputs": [],
   "source": [
    "# output the thrid query results as a text file\n",
    "with open('Sales_by_Product_by_Date.txt', 'w') as outfile :\n",
    "    for row in results3: \n",
    "        outfile.write(\",\".join([str(item) for item in row])+\"\\n\")"
   ]
  },
  {
   "cell_type": "code",
   "execution_count": 34,
   "metadata": {},
   "outputs": [
    {
     "data": {
      "text/plain": [
       "<sqlite3.Cursor at 0x1a1b48fe960>"
      ]
     },
     "execution_count": 34,
     "metadata": {},
     "output_type": "execute_result"
    }
   ],
   "source": [
    "# input the results of the first query into the WedgeTask3 database as the table Sales_by_Product_by_Date\n",
    "input_file3 = \"Sales_by_Product_by_Date.txt\"\n",
    "\n",
    "db = sqlite3.connect(\"WedgeTask3.db\")# connect to the WedgeTask 3 database\n",
    "cur = db.cursor()\n",
    "\n",
    "cur.execute('''DROP TABLE IF EXISTS Sales_by_Product_by_Date''') # remove the table if it already exists\n",
    "\n",
    "# create the table in the connected database and set up the schema\n",
    "cur.execute('''CREATE TABLE Sales_by_Product_by_Date (\n",
    "    UPC STRING,\n",
    "    Description STRING,\n",
    "    Department FLOAT,\n",
    "    Dept_Name STRING,\n",
    "    Year TIMESTAMP,\n",
    "    Month TIMESTAMP,\n",
    "    Sales REAL,\n",
    "    Transactions INTEGER,\n",
    "    Items TEXT)''')\n"
   ]
  },
  {
   "cell_type": "code",
   "execution_count": 35,
   "metadata": {},
   "outputs": [],
   "source": [
    "# input the Sales by Product by Date text data into the established table in the database\n",
    "with open(input_file3, 'r', encoding = 'Latin-1') as infile:\n",
    "    for idx,line in enumerate(infile.readlines()):\n",
    "        line = line.strip().split(',')\n",
    "        cur.execute('''\n",
    "        INSERT INTO Sales_by_Product_by_Date (UPC, Description, Department, Dept_Name, Year, Month, Sales, Transactions, Items)\n",
    "        VALUES (?,?,?,?,?,?,?,?,?)''', line)\n",
    "db.commit()"
   ]
  }
 ],
 "metadata": {
  "kernelspec": {
   "display_name": "Python 3",
   "language": "python",
   "name": "python3"
  },
  "language_info": {
   "codemirror_mode": {
    "name": "ipython",
    "version": 3
   },
   "file_extension": ".py",
   "mimetype": "text/x-python",
   "name": "python",
   "nbconvert_exporter": "python",
   "pygments_lexer": "ipython3",
   "version": "3.8.3"
  }
 },
 "nbformat": 4,
 "nbformat_minor": 4
}
